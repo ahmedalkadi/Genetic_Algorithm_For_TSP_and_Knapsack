{
 "cells": [
  {
   "cell_type": "markdown",
   "metadata": {},
   "source": [
    "# The Knapesack Problem with the genetic algorithm"
   ]
  },
  {
   "cell_type": "code",
   "execution_count": 11,
   "metadata": {},
   "outputs": [],
   "source": [
    "# import the necessary packages\n",
    "import random\n",
    "import numpy as np\n",
    "import matplotlib.pyplot as plt"
   ]
  },
  {
   "cell_type": "markdown",
   "metadata": {},
   "source": [
    "## Define the required functions"
   ]
  },
  {
   "cell_type": "markdown",
   "metadata": {},
   "source": [
    "### Create The Population"
   ]
  },
  {
   "cell_type": "code",
   "execution_count": 12,
   "metadata": {},
   "outputs": [],
   "source": [
    "# create propulation function\n",
    "def create_population(population_size, array_size):\n",
    "    population = []\n",
    "    for i in range(population_size):\n",
    "        population.append(list(np.random.randint(2, size=array_size)))\n",
    "    return np.array(population)\n"
   ]
  },
  {
   "cell_type": "markdown",
   "metadata": {},
   "source": [
    "### Fitness And Selcetion Functions"
   ]
  },
  {
   "cell_type": "code",
   "execution_count": 13,
   "metadata": {},
   "outputs": [],
   "source": [
    "# fitness function\n",
    "\n",
    "def fitness(array, max_weight_bag ,items):\n",
    "    w,v = 0 , 0\n",
    "    for i in range(len(array)):\n",
    "        if array[i] ==1:\n",
    "            v+=items[i].get('value')\n",
    "            w+=items[i].get('weight')\n",
    "    if w <= max_weight_bag:\n",
    "        return v\n",
    "    else:\n",
    "        return 0\n",
    "\n",
    "# selection function \n",
    "# Roulette wheel selection\n",
    "def roulittete_selection(population, fitness, max_weight_bag,items):\n",
    "    fitness_array = np.array([fitness(population[i],max_weight_bag,items) for i in range(len(population))])\n",
    "    prop_fitness = fitness_array / np.sum(fitness_array)\n",
    "    cum_prop_fitness = np.cumsum(prop_fitness)\n",
    "    random_number = random.randint(0, 98)/100\n",
    "    for i, cum_prop in enumerate(cum_prop_fitness):\n",
    "        if random_number <= cum_prop :\n",
    "            return population[i]\n",
    "        "
   ]
  },
  {
   "cell_type": "markdown",
   "metadata": {},
   "source": [
    "### Crossover Functions"
   ]
  },
  {
   "cell_type": "code",
   "execution_count": 14,
   "metadata": {},
   "outputs": [],
   "source": [
    "# the single crossover function \n",
    "\n",
    "def single_crossover(array1, array2):\n",
    "    # create a random index\n",
    "    index = random.randint(0, len(array1))\n",
    "    # perform the crossover\n",
    "    offspring1 = np.copy(array1)\n",
    "    offspring2 = np.copy(array2)\n",
    "    temp1 = np.copy(offspring1[index:])\n",
    "    temp2 = np.copy(offspring2[index:])\n",
    "    offspring1[index:] = temp2\n",
    "    offspring2[index:] = temp1\n",
    "    \n",
    "    return offspring1, offspring2\n",
    "\n",
    "\n",
    "# the double crossover function\n",
    "\n",
    "def double_crossover(array1, array2):\n",
    "    # create 2 random indexes not similar to each other\n",
    "    index1 = random.randint(0, len(array1) - 1)\n",
    "    index2 = random.randint(0, len(array1) - 1)\n",
    "    while index1 == index2:\n",
    "        index2 = random.randint(0, len(array1) - 1)\n",
    "    # make sure index1 < index2\n",
    "    if index1 > index2:\n",
    "        index1, index2 = index2, index1\n",
    "    # perform the crossover\n",
    "    offspring1 = np.copy(array1)\n",
    "    offspring2 = np.copy(array2)\n",
    "    temp1 = np.copy(offspring1[index1:index2])\n",
    "    temp2 = np.copy(offspring2[index1:index2])\n",
    "    offspring1[index1:index2] = temp2\n",
    "    offspring2[index1:index2] = temp1\n",
    "    return offspring1, offspring2\n",
    "\n",
    "\n",
    "# the unifrom crossover function\n",
    "\n",
    "def uniform_crossover(array1, array2):  \n",
    "    if len(array1)%2==0:\n",
    "        part1 = np.ones(int(len(array1)/2))\n",
    "        part2 = np.zeros(int(len(array1)/2))\n",
    "        mask = np.concatenate((part1, part2))\n",
    "        np.random.shuffle(mask)\n",
    "    else:\n",
    "        mask = np.random.randint(2, size=len(array1))\n",
    "    offspring1 = np.zeros(len(array1))\n",
    "    offspring2 = np.zeros(len(array1))\n",
    "    for i in range(len(array1)):\n",
    "        if mask[i] == 1:\n",
    "            offspring1[i] = array1[i]\n",
    "            offspring2[i] = array2[i]\n",
    "        else:\n",
    "            offspring1[i] = array2[i]\n",
    "            offspring2[i] = array1[i]\n",
    "    return offspring1, offspring2\n"
   ]
  },
  {
   "cell_type": "markdown",
   "metadata": {},
   "source": [
    "### Mutation Functions"
   ]
  },
  {
   "cell_type": "code",
   "execution_count": 15,
   "metadata": {},
   "outputs": [],
   "source": [
    "# the invert mutation function\n",
    "\n",
    "def invert_bit(my_array, mutation_rate):\n",
    "    array = np.copy(my_array)\n",
    "    random_number = random.randint(0, 100)/100\n",
    "    if random_number < mutation_rate:\n",
    "        # select a random index\n",
    "        index = random.randint(0, len(array) - 1)\n",
    "        # invert the array\n",
    "        array[index] = 1 - array[index]\n",
    "    return array\n",
    "\n",
    "\n",
    "# switch 2 bits mutation function\n",
    "\n",
    "def switch_bit(my_array, mutation_rate):\n",
    "    array = np.copy(my_array)\n",
    "    random_number = random.randint(0, 100)/100\n",
    "    if random_number < mutation_rate:\n",
    "        # select 2 random indexes\n",
    "        index1 = random.randint(0, len(array) - 1)\n",
    "        index2 = random.randint(0, len(array) - 1)\n",
    "        while index1 == index2:\n",
    "            index2 = random.randint(0, len(array) - 1)\n",
    "        if index1 > index2:\n",
    "            index1, index2 = index2, index1\n",
    "        # switch the values\n",
    "        array[index1], array[index2] = array[index2], array[index1]\n",
    "    return array\n",
    "\n",
    "\n",
    "# the shuffle element in between\n",
    "\n",
    "def shuffle_element(my_array, mutation_rate):           \n",
    "    array = np.copy(my_array)\n",
    "    random_number = random.randint(0, 100)/100\n",
    "    if random_number < mutation_rate:\n",
    "        # select 2 random indexes\n",
    "        index1 = random.randint(0, len(array) - 1)\n",
    "        index2 = random.randint(0, len(array) - 1)\n",
    "        while index1 == index2:\n",
    "            index2 = random.randint(0, len(array) - 1)\n",
    "        if index1 > index2:\n",
    "            index1, index2 = index2, index1\n",
    "        # shuffle the values\n",
    "        array[index1:index2] = np.random.permutation(array[index1:index2])\n",
    "    return array"
   ]
  },
  {
   "cell_type": "markdown",
   "metadata": {},
   "source": [
    "### Elite Selection\n"
   ]
  },
  {
   "cell_type": "code",
   "execution_count": 16,
   "metadata": {},
   "outputs": [],
   "source": [
    "# keep the best chromosomes \n",
    "\n",
    "def next_generation(population, elit_size, fitness,max_weight_bag,items):\n",
    "    # create the fitness array\n",
    "    fitness_array = [fitness(population[i],max_weight_bag,items) for i in range(len(population))]\n",
    "    # sort the fitness array descendingly and get the indexes\n",
    "    sorted_index = np.argsort(fitness_array)[::-1]\n",
    "    new_population = []\n",
    "    for i in range(elit_size):\n",
    "        new_population.append(list(population[sorted_index[i]]))\n",
    "    return new_population\n"
   ]
  },
  {
   "cell_type": "markdown",
   "metadata": {},
   "source": [
    "### Generitic Algorithm"
   ]
  },
  {
   "cell_type": "code",
   "execution_count": 17,
   "metadata": {},
   "outputs": [],
   "source": [
    "# the main genetic algorithm function\n",
    "\n",
    "def NapSack_genetic_algorithm(items, max_weight_bag, population_size, elit_size, generations, mutation_rate, next_generation, fitness, selection_func, cross_over_func, mutation_func ):\n",
    "       \n",
    "    # create the initial population\n",
    "    population = create_population(population_size, len(items))\n",
    "    # loop through the generations\n",
    "    for i in range(generations):\n",
    "        # create the new population\n",
    "        new_population = []\n",
    "        # create the new population using the elitism (exploitation)\n",
    "        next_gen_arr=next_generation(population, elit_size, fitness,max_weight_bag,items)\n",
    "        new_population.extend(next_gen_arr)\n",
    "        # create the remaining population\n",
    "        while len(new_population) < population_size:\n",
    "            # select the parents\n",
    "            parent1 = selection_func(population, fitness, max_weight_bag,items)\n",
    "            parent2 = selection_func(population, fitness, max_weight_bag,items)\n",
    "            while np.array_equal(parent1, parent2):\n",
    "                parent2 = selection_func(population, fitness, max_weight_bag,items)\n",
    "            # perform the crossover (exploration)\n",
    "            offspring1, offspring2 = cross_over_func(parent1, parent2)\n",
    "            # perform the mutation  (exploration)\n",
    "            offspring1 = mutation_func(offspring1, mutation_rate)\n",
    "            offspring2 = mutation_func(offspring2, mutation_rate)\n",
    "            # add the offspring to the new population\n",
    "            new_population.append(offspring1)\n",
    "            new_population.append(offspring2)\n",
    "        # convert the new population to a numpy array\n",
    "        population = np.array(new_population)\n",
    "        if (np.array_equal(next_generation(population, 3, fitness,max_weight_bag,items),next_gen_arr)) and (i>=10):\n",
    "            break\n",
    "    # return the best solution\n",
    "    return next_generation(population, 1, fitness,max_weight_bag,items)[0] , i"
   ]
  },
  {
   "cell_type": "markdown",
   "metadata": {},
   "source": [
    "## Examine the algorithim"
   ]
  },
  {
   "cell_type": "code",
   "execution_count": 18,
   "metadata": {},
   "outputs": [
    {
     "name": "stdout",
     "output_type": "stream",
     "text": [
      "the Napsack should contain [1, 1, 0, 1, 1]\n",
      "the convergence happened after  10 iterations\n",
      "the total value of the bag is  25\n",
      "the total weight of the bag is  19\n"
     ]
    }
   ],
   "source": [
    "\n",
    "# define the  items to choose from \n",
    "items = [\n",
    "    {'weight': 2, 'value': 3},\n",
    "    {'weight': 3, 'value': 4},\n",
    "    {'weight': 4, 'value': 5},\n",
    "    {'weight': 5, 'value': 8},\n",
    "    {'weight': 9, 'value': 10}\n",
    "]\n",
    "\n",
    "# define the genetic algorithm parameters\n",
    "max_weight_bag = 20\n",
    "population_size = 10\n",
    "elit_size = int(population_size * 0.3)\n",
    "generations = 100\n",
    "mutation_rate = 0.02\n",
    "\n",
    "# define the function parameters\n",
    "selection_func = roulittete_selection\n",
    "cross_over_func = double_crossover\n",
    "mutation_func = invert_bit\n",
    "\n",
    "# run the genetic algorithm\n",
    "KnapeSack=NapSack_genetic_algorithm(items, max_weight_bag, population_size, elit_size,generations, mutation_rate,\n",
    "                                next_generation, fitness,selection_func, cross_over_func, mutation_func )\n",
    "\n",
    "\n",
    "# print the results\n",
    "print(\"the Napsack should contain\",KnapeSack[0])\n",
    "print(\"the convergence happened after \",KnapeSack[1], \"iterations\")\n",
    "\n",
    "\n",
    "# the total value of the bag is \n",
    "v,w=0,0\n",
    "for i in range(len(KnapeSack[0])):\n",
    "    if KnapeSack[0][i]!=0:\n",
    "        v+=items[i].get(\"value\")\n",
    "        w+=items[i].get(\"weight\")\n",
    "\n",
    "print(\"the total value of the bag is \", v)\n",
    "print(\"the total weight of the bag is \", w)"
   ]
  },
  {
   "cell_type": "code",
   "execution_count": 19,
   "metadata": {},
   "outputs": [
    {
     "data": {
      "text/plain": [
       "[{'weight': 2, 'value': 3},\n",
       " {'weight': 3, 'value': 4},\n",
       " {'weight': 4, 'value': 5},\n",
       " {'weight': 5, 'value': 8},\n",
       " {'weight': 9, 'value': 10}]"
      ]
     },
     "execution_count": 19,
     "metadata": {},
     "output_type": "execute_result"
    }
   ],
   "source": [
    "items"
   ]
  },
  {
   "cell_type": "code",
   "execution_count": 20,
   "metadata": {},
   "outputs": [
    {
     "data": {
      "text/plain": [
       "[1.5, 1.3333333333333333, 1.25, 1.6, 1.1111111111111112]"
      ]
     },
     "execution_count": 20,
     "metadata": {},
     "output_type": "execute_result"
    }
   ],
   "source": [
    "# try the greedy method to solve the napsack problem \n",
    "# define the value to the weight list \n",
    "\n",
    "ratio = [items[i].get(\"value\")/items[i].get(\"weight\") for i in range (len(items))]\n",
    "ratio"
   ]
  }
 ],
 "metadata": {
  "kernelspec": {
   "display_name": "Python 3",
   "language": "python",
   "name": "python3"
  },
  "language_info": {
   "codemirror_mode": {
    "name": "ipython",
    "version": 3
   },
   "file_extension": ".py",
   "mimetype": "text/x-python",
   "name": "python",
   "nbconvert_exporter": "python",
   "pygments_lexer": "ipython3",
   "version": "3.11.9"
  }
 },
 "nbformat": 4,
 "nbformat_minor": 2
}
